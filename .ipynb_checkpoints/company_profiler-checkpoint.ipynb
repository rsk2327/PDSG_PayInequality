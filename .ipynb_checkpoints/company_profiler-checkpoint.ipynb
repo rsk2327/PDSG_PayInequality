{
  "nbformat": 4,
  "nbformat_minor": 0,
  "metadata": {
    "kernelspec": {
      "display_name": "Python 3",
      "language": "python",
      "name": "python3"
    },
    "language_info": {
      "codemirror_mode": {
        "name": "ipython",
        "version": 3
      },
      "file_extension": ".py",
      "mimetype": "text/x-python",
      "name": "python",
      "nbconvert_exporter": "python",
      "pygments_lexer": "ipython3",
      "version": "3.7.3"
    },
    "colab": {
      "name": "company_profiler.ipynb",
      "provenance": [],
      "collapsed_sections": []
    }
  },
  "cells": [
    {
      "cell_type": "code",
      "metadata": {
        "id": "QuuBlN7kHW8Y",
        "colab_type": "code",
        "colab": {}
      },
      "source": [
        "import pandas as pd\n",
        "import numpy as np\n",
        "import matplotlib.pyplot as plt"
      ],
      "execution_count": 0,
      "outputs": []
    },
    {
      "cell_type": "code",
      "metadata": {
        "id": "O8JTm8WiHW8e",
        "colab_type": "code",
        "colab": {}
      },
      "source": [
        "dfcp = pd.read_csv('Company_Profiler.csv')\n",
        "df = pd.read_csv('all.csv')"
      ],
      "execution_count": 0,
      "outputs": []
    },
    {
      "cell_type": "code",
      "metadata": {
        "id": "hfzxSbAbHW8i",
        "colab_type": "code",
        "colab": {},
        "outputId": "f2110343-d944-4c61-9cd8-096c879b3d49"
      },
      "source": [
        "dfcp.head()"
      ],
      "execution_count": 0,
      "outputs": [
        {
          "output_type": "execute_result",
          "data": {
            "text/html": [
              "<div>\n",
              "<style scoped>\n",
              "    .dataframe tbody tr th:only-of-type {\n",
              "        vertical-align: middle;\n",
              "    }\n",
              "\n",
              "    .dataframe tbody tr th {\n",
              "        vertical-align: top;\n",
              "    }\n",
              "\n",
              "    .dataframe thead th {\n",
              "        text-align: right;\n",
              "    }\n",
              "</style>\n",
              "<table border=\"1\" class=\"dataframe\">\n",
              "  <thead>\n",
              "    <tr style=\"text-align: right;\">\n",
              "      <th></th>\n",
              "      <th>KF_ID</th>\n",
              "      <th>Number of Data Points for Each Company</th>\n",
              "      <th>Number of Years We Have Information</th>\n",
              "      <th>IndustryName</th>\n",
              "      <th>IndustrySegmentName</th>\n",
              "    </tr>\n",
              "  </thead>\n",
              "  <tbody>\n",
              "    <tr>\n",
              "      <th>0</th>\n",
              "      <td>1</td>\n",
              "      <td>8</td>\n",
              "      <td>1</td>\n",
              "      <td>['Financials']</td>\n",
              "      <td>['Consumer Finance']</td>\n",
              "    </tr>\n",
              "    <tr>\n",
              "      <th>1</th>\n",
              "      <td>2</td>\n",
              "      <td>14058</td>\n",
              "      <td>7</td>\n",
              "      <td>['Consumer Services', 'Retail (Services)']</td>\n",
              "      <td>['Specialized Consumer Services', 'unknown']</td>\n",
              "    </tr>\n",
              "    <tr>\n",
              "      <th>2</th>\n",
              "      <td>3</td>\n",
              "      <td>87477</td>\n",
              "      <td>10</td>\n",
              "      <td>['Consumer Goods', 'Fast Moving Consumer Goods...</td>\n",
              "      <td>['Household and Personal Care', 'unknown']</td>\n",
              "    </tr>\n",
              "    <tr>\n",
              "      <th>3</th>\n",
              "      <td>4</td>\n",
              "      <td>30390</td>\n",
              "      <td>10</td>\n",
              "      <td>['Retailers (Services)', 'Consumer Services', ...</td>\n",
              "      <td>['unknown', 'Food Retailers and Wholesalers']</td>\n",
              "    </tr>\n",
              "    <tr>\n",
              "      <th>4</th>\n",
              "      <td>5</td>\n",
              "      <td>77</td>\n",
              "      <td>2</td>\n",
              "      <td>['Industrials']</td>\n",
              "      <td>['Transportation Infrastructure', 'Road and Ra...</td>\n",
              "    </tr>\n",
              "  </tbody>\n",
              "</table>\n",
              "</div>"
            ],
            "text/plain": [
              "   KF_ID  Number of Data Points for Each Company  \\\n",
              "0      1                                       8   \n",
              "1      2                                   14058   \n",
              "2      3                                   87477   \n",
              "3      4                                   30390   \n",
              "4      5                                      77   \n",
              "\n",
              "   Number of Years We Have Information  \\\n",
              "0                                    1   \n",
              "1                                    7   \n",
              "2                                   10   \n",
              "3                                   10   \n",
              "4                                    2   \n",
              "\n",
              "                                        IndustryName  \\\n",
              "0                                     ['Financials']   \n",
              "1         ['Consumer Services', 'Retail (Services)']   \n",
              "2  ['Consumer Goods', 'Fast Moving Consumer Goods...   \n",
              "3  ['Retailers (Services)', 'Consumer Services', ...   \n",
              "4                                    ['Industrials']   \n",
              "\n",
              "                                 IndustrySegmentName  \n",
              "0                               ['Consumer Finance']  \n",
              "1       ['Specialized Consumer Services', 'unknown']  \n",
              "2         ['Household and Personal Care', 'unknown']  \n",
              "3      ['unknown', 'Food Retailers and Wholesalers']  \n",
              "4  ['Transportation Infrastructure', 'Road and Ra...  "
            ]
          },
          "metadata": {
            "tags": []
          },
          "execution_count": 10
        }
      ]
    },
    {
      "cell_type": "code",
      "metadata": {
        "id": "TYO1ctAaHW8m",
        "colab_type": "code",
        "colab": {}
      },
      "source": [
        "# Analyze positions of a company\n",
        "def jobs_of_company(dataf,kf_id):\n",
        "    jb = {}\n",
        "    for i in range(len(dataf)):\n",
        "        if dataf['KF_ID'][i] == kf_id:\n",
        "            if dataf['KF_ID'][i] not in jb.keys():\n",
        "                aa = {}\n",
        "                aa[dataf['JobName'][i]] = [dataf['CalendarYear'][i]]\n",
        "                jb[dataf['KF_ID'][i]] = aa\n",
        "            else:\n",
        "                if dataf['JobName'][i] not in jb[dataf['KF_ID'][i]].keys():\n",
        "                    jb[dataf['KF_ID'][i]][dataf['JobName'][i]] = [dataf['CalendarYear'][i]]\n",
        "                else:\n",
        "                    if dataf['CalendarYear'][i] not in jb[dataf['KF_ID'][i]][dataf['JobName'][i]]:\n",
        "                        jb[dataf['KF_ID'][i]][dataf['JobName'][i]].append(dataf['CalendarYear'][i])\n",
        "        else:\n",
        "            continue\n",
        "    job_list = pd.DataFrame(jb)\n",
        "    for j in job_list.values:\n",
        "        j[0].sort()\n",
        "    return job_list"
      ],
      "execution_count": 0,
      "outputs": []
    },
    {
      "cell_type": "code",
      "metadata": {
        "id": "X6uKKlQZHW8p",
        "colab_type": "code",
        "colab": {}
      },
      "source": [
        "# Remuneration of Overall Job\n",
        "def remuneration_of_job(dataf,kf_id, salary_column_name):\n",
        "    roj = {}\n",
        "    for i in range(len(dataf)):\n",
        "        if dataf['KF_ID'][i] == kf_id:\n",
        "            if dataf['CalendarYear'][i] not in roj.keys():\n",
        "                roj[dataf['CalendarYear'][i]] = dataf[salary_column_name][i]\n",
        "            else:\n",
        "                roj[dataf['CalendarYear'][i]] += dataf[salary_column_name][i]\n",
        "        else:\n",
        "            continue\n",
        "    return roj"
      ],
      "execution_count": 0,
      "outputs": []
    },
    {
      "cell_type": "code",
      "metadata": {
        "id": "_e3xPhP5HW8s",
        "colab_type": "code",
        "colab": {}
      },
      "source": [
        "kf_id = 3"
      ],
      "execution_count": 0,
      "outputs": []
    },
    {
      "cell_type": "code",
      "metadata": {
        "id": "1puAPQbsHW8w",
        "colab_type": "code",
        "colab": {},
        "outputId": "3b7fdc94-7af4-4bdd-9cc2-6347b746eb16"
      },
      "source": [
        "# Number of records/data points for the company\n",
        "print(dfcp['Number of Data Points for Each Company'][kf_id-1])"
      ],
      "execution_count": 0,
      "outputs": [
        {
          "output_type": "stream",
          "text": [
            "87477\n"
          ],
          "name": "stdout"
        }
      ]
    },
    {
      "cell_type": "code",
      "metadata": {
        "id": "dHbFC7_MHW80",
        "colab_type": "code",
        "colab": {},
        "outputId": "9a9282f9-db79-4c4b-a8b1-55f662b508b8"
      },
      "source": [
        "# Number of years for which we have the data\n",
        "print(dfcp['Number of Years We Have Information'][kf_id-1])"
      ],
      "execution_count": 0,
      "outputs": [
        {
          "output_type": "stream",
          "text": [
            "10\n"
          ],
          "name": "stdout"
        }
      ]
    },
    {
      "cell_type": "code",
      "metadata": {
        "id": "lMhkYCVsHW83",
        "colab_type": "code",
        "colab": {},
        "outputId": "ea894cb6-9a0e-4862-bf1b-91c9fb3dae66"
      },
      "source": [
        "# IndustryName for the company\n",
        "print(dfcp['IndustryName'][kf_id-1])"
      ],
      "execution_count": 0,
      "outputs": [
        {
          "output_type": "stream",
          "text": [
            "['Consumer Goods', 'Fast Moving Consumer Goods (Industrial/Mfg.)', 'Diversified Industrials (Industrial/Mfg.)']\n"
          ],
          "name": "stdout"
        }
      ]
    },
    {
      "cell_type": "code",
      "metadata": {
        "id": "8odfh2vRHW86",
        "colab_type": "code",
        "colab": {},
        "outputId": "386fa4b5-6a80-45ac-d1c5-2e34bd0cf7cc"
      },
      "source": [
        "# IndustrySegmentName for the company\n",
        "print(dfcp['IndustrySegmentName'][kf_id-1])"
      ],
      "execution_count": 0,
      "outputs": [
        {
          "output_type": "stream",
          "text": [
            "['Household and Personal Care', 'unknown']\n"
          ],
          "name": "stdout"
        }
      ]
    },
    {
      "cell_type": "code",
      "metadata": {
        "id": "fABqDmRCHW89",
        "colab_type": "code",
        "colab": {}
      },
      "source": [
        "# number of unique jobs \n",
        "job_list = jobs_of_company(df,kf_id)\n",
        "print(len(job_list))\n",
        "job_list.head()"
      ],
      "execution_count": 0,
      "outputs": []
    },
    {
      "cell_type": "code",
      "metadata": {
        "id": "rE3r-HU5HW9A",
        "colab_type": "code",
        "colab": {}
      },
      "source": [
        "# Explore overall salary trends for the company\n",
        "salary_dict = remuneration_of_job(df,kf_id, \"Total Remuneration\")\n",
        "sorted_salary_dict = sorted(salary_dict.items(), key=lambda e:e[0], reverse=False)\n",
        "sorted_salary_df = pd.DataFrame(sorted_salary_dict)\n",
        "sorted_salary_df.rename(columns = {0:\"year\",1:\"Total Remuneration\"},inplace = True)\n",
        "sorted_salary_df.head(10)\n",
        "calenyear = []\n",
        "totalremu = []\n",
        "for i in range(len(sorted_salary_dict)):\n",
        "    calenyear.append(str(sorted_salary_dict[i][0]))\n",
        "    totalremu.append(sorted_salary_dict[i][1])\n",
        "plt.plot(calenyear,totalremu)\n",
        "plt.xlabel('Years')\n",
        "plt.ylabel('Total Remuneration')\n",
        "plt.show()"
      ],
      "execution_count": 0,
      "outputs": []
    },
    {
      "cell_type": "code",
      "metadata": {
        "id": "4N7iEH6uQSeJ",
        "colab_type": "code",
        "colab": {}
      },
      "source": [
        ""
      ],
      "execution_count": 0,
      "outputs": []
    },
    {
      "cell_type": "code",
      "metadata": {
        "id": "AK5wGW9qQSgl",
        "colab_type": "code",
        "colab": {}
      },
      "source": [
        "# 3-b Explore them at a Job level instead of an overall level as well. (maybe a good visualization will help)\n",
        "# salary on job level\n",
        "# input parameter salary_column_name is the column that user wants to look at\n",
        "#   e.g. total annual remuneration, base salary, etc\n",
        "# output: a dataframe, first column: company id\n",
        "#                      second column: job name\n",
        "#                      third column: calendar year\n",
        "#                      forth column: average salary\n",
        "def salary_job_by_year(dataf, kf_id, job_name, salary_column_name):\n",
        "    df = dataf[dataf['KF_ID'] == kf_id][['KF_ID','JobName', salary_column_name, 'CalendarYear']]\n",
        "    output = df.groupby(['KF_ID','JobName', 'CalendarYear']).mean().reset_index()\n",
        "    return output.loc[(output['JobName'] == job_name)]"
      ],
      "execution_count": 0,
      "outputs": []
    },
    {
      "cell_type": "code",
      "metadata": {
        "id": "IO6FaazLXk78",
        "colab_type": "code",
        "colab": {}
      },
      "source": [
        "# to plot:\n",
        "output = salary_job_level(df, kf_id, job_name, salary_column_name)\n",
        "years = list(df['CalendarYear'])\n",
        "salary = list(df[salary_column_name])\n",
        "plt.plot(years,salary)\n",
        "plt.xlabel('year')\n",
        "plt.ylabel('average salary')\n",
        "plt.show()"
      ],
      "execution_count": 0,
      "outputs": []
    },
    {
      "cell_type": "markdown",
      "metadata": {
        "id": "GS5KLGrXP7hK",
        "colab_type": "text"
      },
      "source": [
        "3-c Explore differences in salary between different levels of employees. Does the CEO earn 10 times a normal worker?\n",
        "\n",
        "For 3-c, start off by selecting a skill level variable. This can be either ReferenceLevelNum or IncumbemtPointCount.\n",
        "Make sure that your code allows the user to select either of the skill variable.\n",
        "\n",
        "Now what we need to check is the salary values associated with different skill level.\n",
        "One possible option is to split the skill variable into buckets and then calculate the mean/median salary variable for that bucket.\n",
        "\n",
        "For eg, you take IncumbentPointCount as the skill variable. You see that for the specific company,\n",
        "the variable varies from 20-120. Then you can probably create 10 buckets of 20-30, 30-40 and so on.\n",
        "For each bucket, calculate the mean/median of the salary variable.\n",
        "\n",
        "Here salary variable can be any variable that the user wishes to explore. So let your code be flexible\n",
        "enough to accept either Total Cash or Total Remuneration or Base Salary.\n",
        "\n",
        "\n",
        "Next stage * you dont have to do this now *\n",
        "\n",
        "In the next stage, we try to establish a more a concrete relationship between skill and salary for a company.\n",
        "One of the ways to do that is to model for salary using skill level.\n",
        "We ultimately need an equation like:\n",
        "Salary = a*skill + b*skill^2 + c*skill^3 + intercept\n",
        "\n",
        "We shall discuss this further in your next task."
      ]
    },
    {
      "cell_type": "code",
      "metadata": {
        "id": "vMachJqAP-Zd",
        "colab_type": "code",
        "colab": {}
      },
      "source": [
        "# salary on job level\n",
        "# input parameter: salary_column_name is the column that user wants to look at\n",
        "#   e.g. total annual remuneration, base salary, etc\n",
        "# input parameter: if mean is True, return average,\n",
        "#                   else, return median\n",
        "# output: a dataframe, first column: company id\n",
        "#                      second column: job name\n",
        "#                      third column: calendar year\n",
        "#                      forth column: average salary\n",
        "# Note: as for grouping into bins, we don't know what variable user will select,\n",
        "#       so we do not do grouping here. It should be done once we got the result.\n",
        "def salary_by_level(dataf, kf_id, level_column_name, salary_column_name, mean = True):\n",
        "    df = dataf[dataf['KF_ID'] == kf_id][['KF_ID', level_column_name, salary_column_name]]\n",
        "    if mean:\n",
        "        output = df.groupby(['KF_ID', level_column_name]).mean().reset_index()\n",
        "    else:\n",
        "        output = df.groupby(['KF_ID', level_column_name]).median().reset_index()\n",
        "    return output.loc[(output['KF_ID'] == kf_id) & (output['JobName'] == job_name)]\n",
        "\n",
        "    df = dataf[dataf['KF_ID'] == kf_id][['KF_ID','JobName', 'Total Annual Remuneration', 'CalendarYear']]\n",
        "    output = df.groupby(['KF_ID','JobName', 'CalendarYear']).mean().reset_index()\n",
        "    return output"
      ],
      "execution_count": 0,
      "outputs": []
    },
    {
      "cell_type": "code",
      "metadata": {
        "id": "xUZtzLISP-eE",
        "colab_type": "code",
        "colab": {}
      },
      "source": [
        ""
      ],
      "execution_count": 0,
      "outputs": []
    }
  ]
}