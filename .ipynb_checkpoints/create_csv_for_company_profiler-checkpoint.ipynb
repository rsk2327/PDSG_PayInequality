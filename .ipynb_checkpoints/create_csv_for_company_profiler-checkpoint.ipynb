{
 "cells": [
  {
   "cell_type": "code",
   "execution_count": 1,
   "metadata": {},
   "outputs": [],
   "source": [
    "import numpy as np\n",
    "import pandas as pd"
   ]
  },
  {
   "cell_type": "code",
   "execution_count": 2,
   "metadata": {},
   "outputs": [
    {
     "name": "stderr",
     "output_type": "stream",
     "text": [
      "D:\\Pyplatform\\lib\\site-packages\\IPython\\core\\interactiveshell.py:3057: DtypeWarning: Columns (6,7) have mixed types. Specify dtype option on import or set low_memory=False.\n",
      "  interactivity=interactivity, compiler=compiler, result=result)\n"
     ]
    }
   ],
   "source": [
    "df = pd.read_csv('all.csv')"
   ]
  },
  {
   "cell_type": "code",
   "execution_count": 20,
   "metadata": {},
   "outputs": [],
   "source": [
    "df_cy = pd.read_csv('CalendarYear of each company.csv')"
   ]
  },
  {
   "cell_type": "code",
   "execution_count": 18,
   "metadata": {},
   "outputs": [],
   "source": [
    "# dictionary of number of data points for each company\n",
    "dfdict = {}\n",
    "dfkf = df['KF_ID'].value_counts().sort_index().to_frame()\n",
    "for j in range(len(dfkf)):\n",
    "    if dfkf.index[j] not in dfdict.keys():\n",
    "        dfdict[dfkf.index[j]] = int(dfkf.values[j])\n",
    "    else:\n",
    "        dfdict[dfkf.index[j]] += int(dfkf.values[j])"
   ]
  },
  {
   "cell_type": "code",
   "execution_count": 21,
   "metadata": {},
   "outputs": [],
   "source": [
    "# dictionary of number of years we have information on each company\n",
    "numberofyears = {}\n",
    "for i in range(len(df_cy)):\n",
    "    numberofyears[df_cy['KF_ID'][i]] = df_cy.iloc[i].drop('KF_ID').values.sum()"
   ]
  },
  {
   "cell_type": "code",
   "execution_count": 23,
   "metadata": {},
   "outputs": [],
   "source": [
    "# dictionary of industry name of each company\n",
    "isn = {}\n",
    "for j in range(len(df)):\n",
    "    if df['KF_ID'][j] not in isn.keys():\n",
    "        isn[df['KF_ID'][j]] = [df['IndustryName'][j]]\n",
    "    else:\n",
    "        if df['IndustryName'][j] not in isn[df['KF_ID'][j]]:\n",
    "            isn[df['KF_ID'][j]].append(df['IndustryName'][j])"
   ]
  },
  {
   "cell_type": "code",
   "execution_count": 25,
   "metadata": {},
   "outputs": [],
   "source": [
    "# dictionary of industry segment name of each company\n",
    "isegment = {}\n",
    "df['IndustrySegmentName'].fillna('unknown',inplace = True)\n",
    "for j in range(len(df)):\n",
    "    if df['KF_ID'][j] not in isegment.keys():\n",
    "        isegment[df['KF_ID'][j]] = [df['IndustrySegmentName'][j]]\n",
    "    else:\n",
    "        if df['IndustrySegmentName'][j] not in isegment[df['KF_ID'][j]]:\n",
    "            isegment[df['KF_ID'][j]].append(df['IndustrySegmentName'][j])"
   ]
  },
  {
   "cell_type": "code",
   "execution_count": 26,
   "metadata": {},
   "outputs": [],
   "source": [
    "mydict = [dfdict,numberofyears,isn,isegment]\n",
    "final_df = pd.DataFrame(mydict)\n",
    "col = ['Number of Data Points for Each Company','Number of Years We Have Information','IndustryName','IndustrySegmentName']\n",
    "final_data = pd.DataFrame(final_df.values.T,index = final_df.columns,columns = col)\n",
    "final_data.to_csv('Company_Profiler.csv', encoding='gbk')"
   ]
  },
  {
   "cell_type": "code",
   "execution_count": 30,
   "metadata": {},
   "outputs": [
    {
     "data": {
      "text/html": [
       "<div>\n",
       "<style scoped>\n",
       "    .dataframe tbody tr th:only-of-type {\n",
       "        vertical-align: middle;\n",
       "    }\n",
       "\n",
       "    .dataframe tbody tr th {\n",
       "        vertical-align: top;\n",
       "    }\n",
       "\n",
       "    .dataframe thead th {\n",
       "        text-align: right;\n",
       "    }\n",
       "</style>\n",
       "<table border=\"1\" class=\"dataframe\">\n",
       "  <thead>\n",
       "    <tr style=\"text-align: right;\">\n",
       "      <th></th>\n",
       "      <th>KF_ID</th>\n",
       "      <th>Number of Data Points for Each Company</th>\n",
       "      <th>Number of Years We Have Information</th>\n",
       "      <th>IndustryName</th>\n",
       "      <th>IndustrySegmentName</th>\n",
       "    </tr>\n",
       "  </thead>\n",
       "  <tbody>\n",
       "    <tr>\n",
       "      <th>0</th>\n",
       "      <td>1</td>\n",
       "      <td>8</td>\n",
       "      <td>1</td>\n",
       "      <td>['Financials']</td>\n",
       "      <td>['Consumer Finance']</td>\n",
       "    </tr>\n",
       "    <tr>\n",
       "      <th>1</th>\n",
       "      <td>2</td>\n",
       "      <td>14058</td>\n",
       "      <td>7</td>\n",
       "      <td>['Consumer Services', 'Retail (Services)']</td>\n",
       "      <td>['Specialized Consumer Services', 'unknown']</td>\n",
       "    </tr>\n",
       "    <tr>\n",
       "      <th>2</th>\n",
       "      <td>3</td>\n",
       "      <td>87477</td>\n",
       "      <td>10</td>\n",
       "      <td>['Consumer Goods', 'Fast Moving Consumer Goods...</td>\n",
       "      <td>['Household and Personal Care', 'unknown']</td>\n",
       "    </tr>\n",
       "    <tr>\n",
       "      <th>3</th>\n",
       "      <td>4</td>\n",
       "      <td>30390</td>\n",
       "      <td>10</td>\n",
       "      <td>['Retailers (Services)', 'Consumer Services', ...</td>\n",
       "      <td>['unknown', 'Food Retailers and Wholesalers']</td>\n",
       "    </tr>\n",
       "    <tr>\n",
       "      <th>4</th>\n",
       "      <td>5</td>\n",
       "      <td>77</td>\n",
       "      <td>2</td>\n",
       "      <td>['Industrials']</td>\n",
       "      <td>['Transportation Infrastructure', 'Road and Ra...</td>\n",
       "    </tr>\n",
       "  </tbody>\n",
       "</table>\n",
       "</div>"
      ],
      "text/plain": [
       "   KF_ID  Number of Data Points for Each Company  \\\n",
       "0      1                                       8   \n",
       "1      2                                   14058   \n",
       "2      3                                   87477   \n",
       "3      4                                   30390   \n",
       "4      5                                      77   \n",
       "\n",
       "   Number of Years We Have Information  \\\n",
       "0                                    1   \n",
       "1                                    7   \n",
       "2                                   10   \n",
       "3                                   10   \n",
       "4                                    2   \n",
       "\n",
       "                                        IndustryName  \\\n",
       "0                                     ['Financials']   \n",
       "1         ['Consumer Services', 'Retail (Services)']   \n",
       "2  ['Consumer Goods', 'Fast Moving Consumer Goods...   \n",
       "3  ['Retailers (Services)', 'Consumer Services', ...   \n",
       "4                                    ['Industrials']   \n",
       "\n",
       "                                 IndustrySegmentName  \n",
       "0                               ['Consumer Finance']  \n",
       "1       ['Specialized Consumer Services', 'unknown']  \n",
       "2         ['Household and Personal Care', 'unknown']  \n",
       "3      ['unknown', 'Food Retailers and Wholesalers']  \n",
       "4  ['Transportation Infrastructure', 'Road and Ra...  "
      ]
     },
     "execution_count": 30,
     "metadata": {},
     "output_type": "execute_result"
    }
   ],
   "source": [
    "cp.head()"
   ]
  },
  {
   "cell_type": "code",
   "execution_count": null,
   "metadata": {},
   "outputs": [],
   "source": []
  }
 ],
 "metadata": {
  "kernelspec": {
   "display_name": "Python 3",
   "language": "python",
   "name": "python3"
  },
  "language_info": {
   "codemirror_mode": {
    "name": "ipython",
    "version": 3
   },
   "file_extension": ".py",
   "mimetype": "text/x-python",
   "name": "python",
   "nbconvert_exporter": "python",
   "pygments_lexer": "ipython3",
   "version": "3.7.3"
  }
 },
 "nbformat": 4,
 "nbformat_minor": 2
}
