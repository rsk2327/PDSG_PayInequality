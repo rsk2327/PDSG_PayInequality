{
  "nbformat": 4,
  "nbformat_minor": 0,
  "metadata": {
    "kernelspec": {
      "display_name": "Python 3",
      "language": "python",
      "name": "python3"
    },
    "language_info": {
      "codemirror_mode": {
        "name": "ipython",
        "version": 3
      },
      "file_extension": ".py",
      "mimetype": "text/x-python",
      "name": "python",
      "nbconvert_exporter": "python",
      "pygments_lexer": "ipython3",
      "version": "3.7.3"
    },
    "colab": {
      "name": "Input.ipynb",
      "provenance": [],
      "collapsed_sections": []
    }
  },
  "cells": [
    {
      "cell_type": "code",
      "metadata": {
        "id": "2a5utIs8j12f",
        "colab_type": "code",
        "colab": {}
      },
      "source": [
        "import pandas as pd\n",
        "import numpy as np\n",
        "import matplotlib.pyplot as plt"
      ],
      "execution_count": 0,
      "outputs": []
    },
    {
      "cell_type": "code",
      "metadata": {
        "id": "JYDD41dTj12j",
        "colab_type": "code",
        "colab": {}
      },
      "source": [
        "dfcp = pd.read_csv('Company_Profiler.csv')"
      ],
      "execution_count": 0,
      "outputs": []
    },
    {
      "cell_type": "code",
      "metadata": {
        "id": "kJa2bjdjj12m",
        "colab_type": "code",
        "colab": {},
        "outputId": "e0650ec4-f6bc-4d36-d8a0-4f2acec4cc02"
      },
      "source": [
        "df = pd.read_csv('all.csv')"
      ],
      "execution_count": 0,
      "outputs": [
        {
          "output_type": "stream",
          "text": [
            "D:\\Pyplatform\\lib\\site-packages\\IPython\\core\\interactiveshell.py:3057: DtypeWarning: Columns (6,7) have mixed types. Specify dtype option on import or set low_memory=False.\n",
            "  interactivity=interactivity, compiler=compiler, result=result)\n"
          ],
          "name": "stderr"
        }
      ]
    },
    {
      "cell_type": "code",
      "metadata": {
        "id": "EmoQdIKfj12p",
        "colab_type": "code",
        "colab": {},
        "outputId": "6f3ee8eb-c5c6-4889-f274-a6857eeac50d"
      },
      "source": [
        "dfcp.head()"
      ],
      "execution_count": 0,
      "outputs": [
        {
          "output_type": "execute_result",
          "data": {
            "text/html": [
              "<div>\n",
              "<style scoped>\n",
              "    .dataframe tbody tr th:only-of-type {\n",
              "        vertical-align: middle;\n",
              "    }\n",
              "\n",
              "    .dataframe tbody tr th {\n",
              "        vertical-align: top;\n",
              "    }\n",
              "\n",
              "    .dataframe thead th {\n",
              "        text-align: right;\n",
              "    }\n",
              "</style>\n",
              "<table border=\"1\" class=\"dataframe\">\n",
              "  <thead>\n",
              "    <tr style=\"text-align: right;\">\n",
              "      <th></th>\n",
              "      <th>KF_ID</th>\n",
              "      <th>Number of Data Points for Each Company</th>\n",
              "      <th>Number of Years We Have Information</th>\n",
              "      <th>IndustryName</th>\n",
              "      <th>IndustrySegmentName</th>\n",
              "    </tr>\n",
              "  </thead>\n",
              "  <tbody>\n",
              "    <tr>\n",
              "      <th>0</th>\n",
              "      <td>1</td>\n",
              "      <td>8</td>\n",
              "      <td>1</td>\n",
              "      <td>['Financials']</td>\n",
              "      <td>['Consumer Finance']</td>\n",
              "    </tr>\n",
              "    <tr>\n",
              "      <th>1</th>\n",
              "      <td>2</td>\n",
              "      <td>14058</td>\n",
              "      <td>7</td>\n",
              "      <td>['Consumer Services', 'Retail (Services)']</td>\n",
              "      <td>['Specialized Consumer Services', 'unknown']</td>\n",
              "    </tr>\n",
              "    <tr>\n",
              "      <th>2</th>\n",
              "      <td>3</td>\n",
              "      <td>87477</td>\n",
              "      <td>10</td>\n",
              "      <td>['Consumer Goods', 'Fast Moving Consumer Goods...</td>\n",
              "      <td>['Household and Personal Care', 'unknown']</td>\n",
              "    </tr>\n",
              "    <tr>\n",
              "      <th>3</th>\n",
              "      <td>4</td>\n",
              "      <td>30390</td>\n",
              "      <td>10</td>\n",
              "      <td>['Retailers (Services)', 'Consumer Services', ...</td>\n",
              "      <td>['unknown', 'Food Retailers and Wholesalers']</td>\n",
              "    </tr>\n",
              "    <tr>\n",
              "      <th>4</th>\n",
              "      <td>5</td>\n",
              "      <td>77</td>\n",
              "      <td>2</td>\n",
              "      <td>['Industrials']</td>\n",
              "      <td>['Transportation Infrastructure', 'Road and Ra...</td>\n",
              "    </tr>\n",
              "  </tbody>\n",
              "</table>\n",
              "</div>"
            ],
            "text/plain": [
              "   KF_ID  Number of Data Points for Each Company  \\\n",
              "0      1                                       8   \n",
              "1      2                                   14058   \n",
              "2      3                                   87477   \n",
              "3      4                                   30390   \n",
              "4      5                                      77   \n",
              "\n",
              "   Number of Years We Have Information  \\\n",
              "0                                    1   \n",
              "1                                    7   \n",
              "2                                   10   \n",
              "3                                   10   \n",
              "4                                    2   \n",
              "\n",
              "                                        IndustryName  \\\n",
              "0                                     ['Financials']   \n",
              "1         ['Consumer Services', 'Retail (Services)']   \n",
              "2  ['Consumer Goods', 'Fast Moving Consumer Goods...   \n",
              "3  ['Retailers (Services)', 'Consumer Services', ...   \n",
              "4                                    ['Industrials']   \n",
              "\n",
              "                                 IndustrySegmentName  \n",
              "0                               ['Consumer Finance']  \n",
              "1       ['Specialized Consumer Services', 'unknown']  \n",
              "2         ['Household and Personal Care', 'unknown']  \n",
              "3      ['unknown', 'Food Retailers and Wholesalers']  \n",
              "4  ['Transportation Infrastructure', 'Road and Ra...  "
            ]
          },
          "metadata": {
            "tags": []
          },
          "execution_count": 3
        }
      ]
    },
    {
      "cell_type": "code",
      "metadata": {
        "id": "n6wARI_-j12s",
        "colab_type": "code",
        "colab": {}
      },
      "source": [
        "kf_id = 4"
      ],
      "execution_count": 0,
      "outputs": []
    },
    {
      "cell_type": "code",
      "metadata": {
        "id": "TvFRskStj12v",
        "colab_type": "code",
        "colab": {}
      },
      "source": [
        "df_id = df[(df['KF_ID'] == kf_id)]\n",
        "df_id.reset_index(drop=True,inplace=True)"
      ],
      "execution_count": 0,
      "outputs": []
    },
    {
      "cell_type": "code",
      "metadata": {
        "id": "WRnoV8WYj12y",
        "colab_type": "code",
        "colab": {}
      },
      "source": [
        "# Analyze positions of a company\n",
        "def jobs_of_company(dataf):\n",
        "    jb = {}\n",
        "    for i in range(len(dataf)):\n",
        "        if dataf['KF_ID'][i] not in jb.keys():\n",
        "            aa = {}\n",
        "            aa[dataf['JobName'][i]] = [dataf['CalendarYear'][i]]\n",
        "            jb[dataf['KF_ID'][i]] = aa\n",
        "        else:\n",
        "            if dataf['JobName'][i] not in jb[dataf['KF_ID'][i]].keys():\n",
        "                jb[dataf['KF_ID'][i]][dataf['JobName'][i]] = [dataf['CalendarYear'][i]]\n",
        "            else:\n",
        "                if dataf['CalendarYear'][i] not in jb[dataf['KF_ID'][i]][dataf['JobName'][i]]:\n",
        "                    jb[dataf['KF_ID'][i]][dataf['JobName'][i]].append(dataf['CalendarYear'][i])\n",
        "    job_list = pd.DataFrame(jb)\n",
        "    for j in job_list.values:\n",
        "        j[0].sort()\n",
        "    return job_list"
      ],
      "execution_count": 0,
      "outputs": []
    },
    {
      "cell_type": "code",
      "metadata": {
        "id": "FcAXRViQj121",
        "colab_type": "code",
        "colab": {}
      },
      "source": [
        "# Remuneration of Overall Job\n",
        "def remuneration_of_job(dataf,salary_column_name):\n",
        "    roj = {}\n",
        "    for i in range(len(dataf)):\n",
        "        if dataf['CalendarYear'][i] not in roj.keys():\n",
        "            roj[dataf['CalendarYear'][i]] = dataf[salary_column_name][i]\n",
        "        else:\n",
        "            roj[dataf['CalendarYear'][i]] += dataf[salary_column_name][i]\n",
        "    return roj"
      ],
      "execution_count": 0,
      "outputs": []
    },
    {
      "cell_type": "code",
      "metadata": {
        "id": "EckmV9MQj123",
        "colab_type": "code",
        "colab": {}
      },
      "source": [
        "kf_id = 3"
      ],
      "execution_count": 0,
      "outputs": []
    },
    {
      "cell_type": "code",
      "metadata": {
        "id": "CG8-BtuRj125",
        "colab_type": "code",
        "colab": {},
        "outputId": "80c0e185-84de-4db2-c304-9d70088bf88f"
      },
      "source": [
        "# Number of records/data points for the company\n",
        "print(\"Number of records/data points for the company:\",dfcp['Number of Data Points for Each Company'][kf_id-1])"
      ],
      "execution_count": 0,
      "outputs": [
        {
          "output_type": "stream",
          "text": [
            "Number of records/data points for the company: 30390\n"
          ],
          "name": "stdout"
        }
      ]
    },
    {
      "cell_type": "code",
      "metadata": {
        "id": "8282Uex0j127",
        "colab_type": "code",
        "colab": {},
        "outputId": "a508ad5b-c4a4-408e-f324-29a2e125251d"
      },
      "source": [
        "# Number of years for which we have the data\n",
        "print(\"Number of years for which we have the data:\",dfcp['Number of Years We Have Information'][kf_id-1])"
      ],
      "execution_count": 0,
      "outputs": [
        {
          "output_type": "stream",
          "text": [
            "Number of years for which we have the data: 10\n"
          ],
          "name": "stdout"
        }
      ]
    },
    {
      "cell_type": "code",
      "metadata": {
        "id": "ixFADSiej12-",
        "colab_type": "code",
        "colab": {},
        "outputId": "53646e83-55e9-4638-dac7-6546f61606c3"
      },
      "source": [
        "# IndustryName of the company\n",
        "print(\"Industry name of the company:\",dfcp['IndustryName'][kf_id-1])"
      ],
      "execution_count": 0,
      "outputs": [
        {
          "output_type": "stream",
          "text": [
            "Industry name of the company: ['Retailers (Services)', 'Consumer Services', 'Retail (Services)']\n"
          ],
          "name": "stdout"
        }
      ]
    },
    {
      "cell_type": "code",
      "metadata": {
        "id": "rNtj352Jj13A",
        "colab_type": "code",
        "colab": {},
        "outputId": "485da707-1099-490a-c27b-bb04521976d7"
      },
      "source": [
        "# IndustrySegmentName of the company\n",
        "print(\"Industry Segment Name of the company:\",dfcp['IndustrySegmentName'][kf_id-1])"
      ],
      "execution_count": 0,
      "outputs": [
        {
          "output_type": "stream",
          "text": [
            "Industry Segment Name of the company: ['unknown', 'Food Retailers and Wholesalers']\n"
          ],
          "name": "stdout"
        }
      ]
    },
    {
      "cell_type": "code",
      "metadata": {
        "id": "eZ421kzqj13D",
        "colab_type": "code",
        "colab": {},
        "outputId": "12287179-6bf1-4bc0-8c15-f667d1f94bd7"
      },
      "source": [
        "# number of unique jobs \n",
        "job_list = jobs_of_company(df_id)\n",
        "print(\"The Number of Unique Jobs :\",len(job_list))\n",
        "job_list.head(10)"
      ],
      "execution_count": 0,
      "outputs": [
        {
          "output_type": "stream",
          "text": [
            "The Number of Unique Jobs : 351\n"
          ],
          "name": "stdout"
        },
        {
          "output_type": "execute_result",
          "data": {
            "text/html": [
              "<div>\n",
              "<style scoped>\n",
              "    .dataframe tbody tr th:only-of-type {\n",
              "        vertical-align: middle;\n",
              "    }\n",
              "\n",
              "    .dataframe tbody tr th {\n",
              "        vertical-align: top;\n",
              "    }\n",
              "\n",
              "    .dataframe thead th {\n",
              "        text-align: right;\n",
              "    }\n",
              "</style>\n",
              "<table border=\"1\" class=\"dataframe\">\n",
              "  <thead>\n",
              "    <tr style=\"text-align: right;\">\n",
              "      <th></th>\n",
              "      <th>4</th>\n",
              "    </tr>\n",
              "  </thead>\n",
              "  <tbody>\n",
              "    <tr>\n",
              "      <th>Accountant I</th>\n",
              "      <td>[2016, 2018]</td>\n",
              "    </tr>\n",
              "    <tr>\n",
              "      <th>Accountant I - 1008</th>\n",
              "      <td>[2010]</td>\n",
              "    </tr>\n",
              "    <tr>\n",
              "      <th>Accountant II</th>\n",
              "      <td>[2012, 2013, 2014, 2016, 2018]</td>\n",
              "    </tr>\n",
              "    <tr>\n",
              "      <th>Accountant II - 1007</th>\n",
              "      <td>[2008, 2009, 2011]</td>\n",
              "    </tr>\n",
              "    <tr>\n",
              "      <th>Accountant III</th>\n",
              "      <td>[2012, 2013, 2014, 2016, 2018]</td>\n",
              "    </tr>\n",
              "    <tr>\n",
              "      <th>Accountant III - 1005</th>\n",
              "      <td>[2008, 2009, 2010, 2011]</td>\n",
              "    </tr>\n",
              "    <tr>\n",
              "      <th>Accountant IV</th>\n",
              "      <td>[2012, 2013, 2014, 2016]</td>\n",
              "    </tr>\n",
              "    <tr>\n",
              "      <th>Accountant IV - 1004</th>\n",
              "      <td>[2008, 2009, 2010, 2011]</td>\n",
              "    </tr>\n",
              "    <tr>\n",
              "      <th>Accounting Clerk II</th>\n",
              "      <td>[2018]</td>\n",
              "    </tr>\n",
              "    <tr>\n",
              "      <th>Accounting Clerk II - 1011</th>\n",
              "      <td>[2011]</td>\n",
              "    </tr>\n",
              "  </tbody>\n",
              "</table>\n",
              "</div>"
            ],
            "text/plain": [
              "                                                         4\n",
              "Accountant I                                  [2016, 2018]\n",
              "Accountant I - 1008                                 [2010]\n",
              "Accountant II               [2012, 2013, 2014, 2016, 2018]\n",
              "Accountant II - 1007                    [2008, 2009, 2011]\n",
              "Accountant III              [2012, 2013, 2014, 2016, 2018]\n",
              "Accountant III - 1005             [2008, 2009, 2010, 2011]\n",
              "Accountant IV                     [2012, 2013, 2014, 2016]\n",
              "Accountant IV - 1004              [2008, 2009, 2010, 2011]\n",
              "Accounting Clerk II                                 [2018]\n",
              "Accounting Clerk II - 1011                          [2011]"
            ]
          },
          "metadata": {
            "tags": []
          },
          "execution_count": 33
        }
      ]
    },
    {
      "cell_type": "code",
      "metadata": {
        "id": "pUT5a4oxj13G",
        "colab_type": "code",
        "colab": {},
        "outputId": "582626df-f622-425d-e039-ff47ec869873"
      },
      "source": [
        "# Explore overall salary trends for the company. You can choose whatever salary value you want to plot. Like \"Base Salary\",\"Total Remuneration\"\n",
        "aaa = remuneration_of_job(df_id,\"Base Salary\")\n",
        "ccc = sorted(aaa.items(), key=lambda e:e[0], reverse=False)\n",
        "ddd = pd.DataFrame(ccc)\n",
        "ddd.rename(columns = {0:\"year\",1:\"Base Salary\"},inplace = True)\n",
        "ddd.head(10)\n",
        "calenyear = []\n",
        "totalremu = []\n",
        "for i in range(len(ccc)):\n",
        "    calenyear.append(str(ccc[i][0]))\n",
        "    totalremu.append(ccc[i][1])\n",
        "print(\"Year we have information:\",calenyear)\n",
        "print(\"Total salary for each year:\",totalremu)\n",
        "plt.plot(calenyear,totalremu)\n",
        "plt.xlabel('Years')\n",
        "plt.ylabel('Base Salary')\n",
        "plt.show()"
      ],
      "execution_count": 0,
      "outputs": [
        {
          "output_type": "stream",
          "text": [
            "Year we have information: ['2008', '2009', '2010', '2011', '2012', '2013', '2014', '2015', '2016', '2018']\n",
            "Total salary for each year: [142752393.0, 141160318.0, 121720751.0, 207148296.0, 148847664.0, 117111316.0, 91102768.0, 9910376.0, 265438543.0, 218374038.0]\n"
          ],
          "name": "stdout"
        },
        {
          "output_type": "display_data",
          "data": {
            "image/png": "[encoded data removed]",
            "text/plain": [
              "<Figure size 432x288 with 1 Axes>"
            ]
          },
          "metadata": {
            "tags": [],
            "needs_background": "light"
          }
        }
      ]
    },
    {
      "cell_type": "code",
      "metadata": {
        "id": "FAj-KDo1j13I",
        "colab_type": "code",
        "colab": {}
      },
      "source": [
        "# 3-b Explore them at a Job level instead of an overall level as well. (maybe a good visualization will help)\n",
        "# salary on job level\n",
        "# input parameter salary_column_name is the column that user wants to look at\n",
        "#   e.g. total annual remuneration, base salary, etc\n",
        "# output: a dataframe, first column: company id\n",
        "#                      second column: job name\n",
        "#                      third column: calendar year\n",
        "#                      forth column: average salary\n",
        "def salary_job_by_year(dataf, kf_id, job_name, salary_column_name):\n",
        "    df = dataf[dataf['KF_ID'] == kf_id][['KF_ID','JobName', salary_column_name, 'CalendarYear']]\n",
        "    output = df.groupby(['KF_ID','JobName', 'CalendarYear']).mean().reset_index()\n",
        "    return output.loc[(output['JobName'] == job_name)]"
      ],
      "execution_count": 0,
      "outputs": []
    },
    {
      "cell_type": "code",
      "metadata": {
        "id": "Nxg4jYQEstut",
        "colab_type": "code",
        "colab": {}
      },
      "source": [
        "# for example\n",
        "kf_id = 4\n",
        "job_name = 'Store Manager I - 1385'\n",
        "salary_column_name = 'Base Salary'\n",
        "output = salary_job_by_year(df, kf_id, job_name, salary_column_name)"
      ],
      "execution_count": 0,
      "outputs": []
    },
    {
      "cell_type": "code",
      "metadata": {
        "id": "3KHEGK50j13K",
        "colab_type": "code",
        "colab": {},
        "outputId": "3fca315f-0684-4c8a-d4cc-4b74a0cf257c"
      },
      "source": [
        "# to plot:\n",
        "years = [str(year) for year in list(output['CalendarYear'])]\n",
        "salary = list(output['Base Salary'])\n",
        "plt.plot(years,salary)\n",
        "plt.xlabel('year')\n",
        "plt.ylabel('average salary')\n",
        "plt.show()"
      ],
      "execution_count": 0,
      "outputs": [
        {
          "output_type": "error",
          "ename": "NameError",
          "evalue": "name 'job_name' is not defined",
          "traceback": [
            "\u001b[1;31m---------------------------------------------------------------------------\u001b[0m",
            "\u001b[1;31mNameError\u001b[0m                                 Traceback (most recent call last)",
            "\u001b[1;32m<ipython-input-43-1caa1c5abb27>\u001b[0m in \u001b[0;36m<module>\u001b[1;34m\u001b[0m\n\u001b[0;32m      1\u001b[0m \u001b[1;31m# to plot:\u001b[0m\u001b[1;33m\u001b[0m\u001b[1;33m\u001b[0m\u001b[1;33m\u001b[0m\u001b[0m\n\u001b[1;32m----> 2\u001b[1;33m \u001b[0moutput\u001b[0m \u001b[1;33m=\u001b[0m \u001b[0msalary_by_level\u001b[0m\u001b[1;33m(\u001b[0m\u001b[0mdf\u001b[0m\u001b[1;33m,\u001b[0m \u001b[0mkf_id\u001b[0m\u001b[1;33m,\u001b[0m \u001b[0mjob_name\u001b[0m\u001b[1;33m,\u001b[0m \u001b[1;34m\"Base Salary\"\u001b[0m\u001b[1;33m)\u001b[0m\u001b[1;33m\u001b[0m\u001b[1;33m\u001b[0m\u001b[0m\n\u001b[0m\u001b[0;32m      3\u001b[0m \u001b[1;31m# years = list(df['CalendarYear'])\u001b[0m\u001b[1;33m\u001b[0m\u001b[1;33m\u001b[0m\u001b[1;33m\u001b[0m\u001b[0m\n\u001b[0;32m      4\u001b[0m \u001b[1;31m# salary = list(df['Base Salary'])\u001b[0m\u001b[1;33m\u001b[0m\u001b[1;33m\u001b[0m\u001b[1;33m\u001b[0m\u001b[0m\n\u001b[0;32m      5\u001b[0m \u001b[1;31m# plt.plot(years,salary)\u001b[0m\u001b[1;33m\u001b[0m\u001b[1;33m\u001b[0m\u001b[1;33m\u001b[0m\u001b[0m\n",
            "\u001b[1;31mNameError\u001b[0m: name 'job_name' is not defined"
          ]
        }
      ]
    },
    {
      "cell_type": "markdown",
      "metadata": {
        "id": "6gqn-vPYj13M",
        "colab_type": "text"
      },
      "source": [
        "3-c Explore differences in salary between different levels of employees. Does the CEO earn 10 times a normal worker?\n",
        "\n",
        "For 3-c, start off by selecting a skill level variable. This can be either ReferenceLevelNum or IncumbemtPointCount. Make sure that your code allows the user to select either of the skill variable.\n",
        "\n",
        "Now what we need to check is the salary values associated with different skill level. One possible option is to split the skill variable into buckets and then calculate the mean/median salary variable for that bucket.\n",
        "\n",
        "For eg, you take IncumbentPointCount as the skill variable. You see that for the specific company, the variable varies from 20-120. Then you can probably create 10 buckets of 20-30, 30-40 and so on. For each bucket, calculate the mean/median of the salary variable.\n",
        "\n",
        "Here salary variable can be any variable that the user wishes to explore. So let your code be flexible enough to accept either Total Cash or Total Remuneration or Base Salary.\n",
        "\n",
        "Next stage you dont have to do this now\n",
        "\n",
        "In the next stage, we try to establish a more a concrete relationship between skill and salary for a company. One of the ways to do that is to model for salary using skill level. We ultimately need an equation like: Salary = askill + bskill^2 + c*skill^3 + intercept\n",
        "\n",
        "We shall discuss this further in your next task."
      ]
    },
    {
      "cell_type": "code",
      "metadata": {
        "id": "ullTZIiLj13N",
        "colab_type": "code",
        "colab": {}
      },
      "source": [
        "# salary on job level\n",
        "# input parameter: salary_column_name is the column that user wants to look at\n",
        "#   e.g. total annual remuneration, base salary, etc\n",
        "# input parameter mean: if mean is True, return average,\n",
        "#                   else, return median\n",
        "# input parameter bins: if bins is 0, the first column is raw level number,\n",
        "#                   else, divide the level number into bins\n",
        "# output: a dataframe, first column: job level name\n",
        "#                      second column: mean/median salary for that level\n",
        "def salary_by_level(dataf, kf_id, level_column_name, salary_column_name, mean = True, bins = 0):\n",
        "    df = dataf[dataf['KF_ID'] == kf_id][[salary_column_name, level_column_name]]\n",
        "    if mean:\n",
        "        output = df.groupby([level_column_name]).mean().reset_index()\n",
        "    else:\n",
        "        output = df.groupby([level_column_name]).median().reset_index()\n",
        "    if bins > 0:\n",
        "        low = min(output[level_column_name])\n",
        "        high = max(output[level_column_name])\n",
        "        interval = (high - low)/bins\n",
        "        curr = low + interval\n",
        "        curr_bin = 0\n",
        "        new_output = np.zeros([bins, 2])\n",
        "        total = 0\n",
        "        count = 0\n",
        "        for i in range(len(output)):\n",
        "            if output.iloc[i, 0] < curr:\n",
        "                total += output.iloc[i, 1]\n",
        "                count += 1\n",
        "            else:\n",
        "                if count > 0:\n",
        "                    new_output[curr_bin, 1] = total/count\n",
        "                total = 0\n",
        "                count = 0\n",
        "                while output.iloc[i, 0] > curr:\n",
        "                    curr += interval\n",
        "                    curr_bin += 1\n",
        "                    new_output[curr_bin, 0] = curr_bin\n",
        "                total += output.iloc[i, 1]\n",
        "                count += 1\n",
        "        return pd.DataFrame(new_output, columns = ['bin', salary_column_name])\n",
        "                \n",
        "    return output"
      ],
      "execution_count": 0,
      "outputs": []
    },
    {
      "cell_type": "code",
      "metadata": {
        "id": "KhOxlNvuj13P",
        "colab_type": "code",
        "colab": {}
      },
      "source": [
        "# for example:\n",
        "# all outputs have 2 columns\n",
        "# first column is job level that we are interested in, raw or bin number\n",
        "# output0 has the first column as bin number for ReferenceLevelNum\n",
        "# (as user specified, there are 10 bins, so there are 10 rows)\n",
        "# second column is mean salary (based on user input salary_column_name) given the specific level\n",
        "\n",
        "# output1 has the first column as raw ReferenceLevelNum\n",
        "# second column is median salary (based on user input salary_column_name) given the specific level\n",
        "\n",
        "# output1 has the first column as raw IncumbentPointCount\n",
        "# second column is mean salary (based on user input salary_column_name) given the specific level\n",
        "\n",
        "\n",
        "kf_id = 4\n",
        "level_column_name = 'ReferenceLevelNum'\n",
        "salary_column_name = 'Base Salary'\n",
        "output0 = salary_by_level(df, kf_id, level_column_name, salary_column_name, True, 10)\n",
        "output1 = salary_by_level(df, kf_id, level_column_name, salary_column_name, False)\n",
        "\n",
        "level_column_name = 'IncumbentPointCount'\n",
        "output2 = salary_by_level(df, kf_id, level_column_name, salary_column_name)"
      ],
      "execution_count": 0,
      "outputs": []
    }
  ]
}