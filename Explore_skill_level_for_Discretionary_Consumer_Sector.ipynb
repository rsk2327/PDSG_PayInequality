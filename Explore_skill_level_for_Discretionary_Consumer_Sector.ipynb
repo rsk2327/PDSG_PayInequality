{
 "cells": [
  {
   "cell_type": "code",
   "execution_count": 1,
   "metadata": {},
   "outputs": [],
   "source": [
    "import numpy as np\n",
    "import pandas as pd\n",
    "import matplotlib.pyplot as plt\n",
    "import seaborn as sns"
   ]
  },
  {
   "cell_type": "code",
   "execution_count": 2,
   "metadata": {},
   "outputs": [
    {
     "name": "stderr",
     "output_type": "stream",
     "text": [
      "/home/jupyterlab/conda/envs/python/lib/python3.6/site-packages/IPython/core/interactiveshell.py:3063: DtypeWarning: Columns (6,7) have mixed types.Specify dtype option on import or set low_memory=False.\n",
      "  interactivity=interactivity, compiler=compiler, result=result)\n"
     ]
    }
   ],
   "source": [
    "df = pd.read_csv('Consumer_Discretionary.csv')"
   ]
  },
  {
   "cell_type": "code",
   "execution_count": 4,
   "metadata": {},
   "outputs": [
    {
     "data": {
      "text/plain": [
       "Index(['CalendarYear', 'KF_ID', 'RegionName', 'OwnershipTypeDesc',\n",
       "       'NumOfEmpDesc', 'IndustryName', 'IndustrySectorName',\n",
       "       'IndustrySegmentName', 'JobName', 'ReferenceLevelNum',\n",
       "       'IncumbentPointCount', 'Base Salary', 'Benefit Values',\n",
       "       'Fixed Annual Remuneration', 'Long Term Incentive Values',\n",
       "       'Short Term Variable Payments', 'Target Incentive Payment (%)',\n",
       "       'Total Annual Remuneration', 'Total Cash', 'Total Direct Compensation',\n",
       "       'Total Remuneration Plus', 'Total Earnings'],\n",
       "      dtype='object')"
      ]
     },
     "execution_count": 4,
     "metadata": {},
     "output_type": "execute_result"
    }
   ],
   "source": [
    "df.columns"
   ]
  },
  {
   "cell_type": "code",
   "execution_count": 3,
   "metadata": {},
   "outputs": [],
   "source": [
    "df1 = df[~df['ReferenceLevelNum'].isin([99])]"
   ]
  },
  {
   "cell_type": "code",
   "execution_count": 4,
   "metadata": {},
   "outputs": [],
   "source": [
    "list2011 = df1[df1.CalendarYear == 2011]['KF_ID'].value_counts().index.sort_values(ascending = True).tolist()\n",
    "list2015 = df1[df1.CalendarYear == 2015]['KF_ID'].value_counts().index.sort_values(ascending = True).tolist()\n",
    "a = [x for x in list2011 if x in list2015]  # Companies existing in both 2011 and 2015\n",
    "b = [y for y in (list2011 + list2015) if y not in a]  # Companies existing in either 2011 or 2015\n",
    "c = [x for x in list2011 if x not in list2015] # Companies existing in 2011 but missing in 2015\n",
    "d = [y for y in list2015 if y not in list2011]  # Companies missing in 2011 but existing in 2015"
   ]
  },
  {
   "cell_type": "code",
   "execution_count": 6,
   "metadata": {},
   "outputs": [
    {
     "name": "stdout",
     "output_type": "stream",
     "text": [
      "[4, 12, 16, 17, 23, 55, 71, 108, 114, 132, 171, 223, 227, 235, 243, 251, 298, 312, 325, 366, 406, 432, 462, 482, 489, 509, 543, 592, 603, 605, 622, 632, 689, 694, 705, 738, 748, 884, 922, 951, 954, 997, 1016, 1028, 1029, 1046, 1092, 1105, 1156, 1178, 1216, 1229, 1241, 1244, 1264, 1294, 1301, 1325, 1326, 1346, 1369, 1387, 1401, 1423, 1441, 1466, 1467, 1487, 1490, 1491, 1497, 1504, 1507, 1509, 1530, 1606, 1607, 1626, 1633, 1646]\n"
     ]
    }
   ],
   "source": [
    "print(a) # The KF_ID of companies surveyed both in 2011 and 2015"
   ]
  },
  {
   "cell_type": "code",
   "execution_count": 5,
   "metadata": {},
   "outputs": [],
   "source": [
    "df2 = df1.set_index('KF_ID')\n",
    "dfboth = df2.loc[a]"
   ]
  },
  {
   "cell_type": "code",
   "execution_count": 7,
   "metadata": {},
   "outputs": [
    {
     "name": "stderr",
     "output_type": "stream",
     "text": [
      "/home/jupyterlab/conda/envs/python/lib/python3.6/site-packages/numpy/core/fromnumeric.py:3335: RuntimeWarning: Mean of empty slice.\n",
      "  out=out, **kwargs)\n",
      "/home/jupyterlab/conda/envs/python/lib/python3.6/site-packages/numpy/core/_methods.py:161: RuntimeWarning: invalid value encountered in double_scalars\n",
      "  ret = ret.dtype.type(ret / rcount)\n"
     ]
    }
   ],
   "source": [
    "df2011 = dfboth[dfboth.CalendarYear == 2011]\n",
    "df2015 = dfboth[dfboth.CalendarYear == 2015]\n",
    "jn = dfboth['JobName'].value_counts().index.tolist()\n",
    "jndic = {}\n",
    "for i in jn:\n",
    "    jnyear = {}\n",
    "    jnyear['2011'] = np.median(df2011[df2011.JobName == i]['ReferenceLevelNum'])\n",
    "    jnyear['2015'] = np.median(df2015[df2015.JobName == i]['ReferenceLevelNum'])\n",
    "    jndic[i] = jnyear\n",
    "dfjn = pd.DataFrame(jndic)\n",
    "dfjn = dfjn.T"
   ]
  },
  {
   "cell_type": "markdown",
   "metadata": {},
   "source": [
    "This is Job list for companies existing in both 2011 and 2015. The value for each cell is ReferenceLevelNum"
   ]
  },
  {
   "cell_type": "code",
   "execution_count": 9,
   "metadata": {},
   "outputs": [
    {
     "data": {
      "text/html": [
       "<div>\n",
       "<style scoped>\n",
       "    .dataframe tbody tr th:only-of-type {\n",
       "        vertical-align: middle;\n",
       "    }\n",
       "\n",
       "    .dataframe tbody tr th {\n",
       "        vertical-align: top;\n",
       "    }\n",
       "\n",
       "    .dataframe thead th {\n",
       "        text-align: right;\n",
       "    }\n",
       "</style>\n",
       "<table border=\"1\" class=\"dataframe\">\n",
       "  <thead>\n",
       "    <tr style=\"text-align: right;\">\n",
       "      <th></th>\n",
       "      <th>2011</th>\n",
       "      <th>2015</th>\n",
       "    </tr>\n",
       "  </thead>\n",
       "  <tbody>\n",
       "    <tr>\n",
       "      <th>Cashier I</th>\n",
       "      <td>NaN</td>\n",
       "      <td>7.0</td>\n",
       "    </tr>\n",
       "    <tr>\n",
       "      <th>Sales Assistant I</th>\n",
       "      <td>NaN</td>\n",
       "      <td>8.0</td>\n",
       "    </tr>\n",
       "    <tr>\n",
       "      <th>Assistant Store Manager IV - 1382</th>\n",
       "      <td>15.0</td>\n",
       "      <td>NaN</td>\n",
       "    </tr>\n",
       "    <tr>\n",
       "      <th>Sales Assistant II</th>\n",
       "      <td>NaN</td>\n",
       "      <td>9.0</td>\n",
       "    </tr>\n",
       "    <tr>\n",
       "      <th>Assistant Store Manager I</th>\n",
       "      <td>NaN</td>\n",
       "      <td>12.0</td>\n",
       "    </tr>\n",
       "    <tr>\n",
       "      <th>...</th>\n",
       "      <td>...</td>\n",
       "      <td>...</td>\n",
       "    </tr>\n",
       "    <tr>\n",
       "      <th>Executive/Management - Corporate Executives - Level 20</th>\n",
       "      <td>NaN</td>\n",
       "      <td>20.0</td>\n",
       "    </tr>\n",
       "    <tr>\n",
       "      <th>Health Insurance - Pharmacy -Pharmacy Benefit Management - Level 20</th>\n",
       "      <td>20.0</td>\n",
       "      <td>NaN</td>\n",
       "    </tr>\n",
       "    <tr>\n",
       "      <th>Human Resources - Recruitment and Organizational Development - Level 20</th>\n",
       "      <td>NaN</td>\n",
       "      <td>20.0</td>\n",
       "    </tr>\n",
       "    <tr>\n",
       "      <th>Finance and Accounting (FA) - Treasury (FAF) - Level 22</th>\n",
       "      <td>NaN</td>\n",
       "      <td>22.0</td>\n",
       "    </tr>\n",
       "    <tr>\n",
       "      <th>Sales - Support and Training - Level 10</th>\n",
       "      <td>10.0</td>\n",
       "      <td>NaN</td>\n",
       "    </tr>\n",
       "  </tbody>\n",
       "</table>\n",
       "<p>2042 rows × 2 columns</p>\n",
       "</div>"
      ],
      "text/plain": [
       "                                                    2011  2015\n",
       "Cashier I                                            NaN   7.0\n",
       "Sales Assistant I                                    NaN   8.0\n",
       "Assistant Store Manager IV - 1382                   15.0   NaN\n",
       "Sales Assistant II                                   NaN   9.0\n",
       "Assistant Store Manager I                            NaN  12.0\n",
       "...                                                  ...   ...\n",
       "Executive/Management - Corporate Executives - L...   NaN  20.0\n",
       "Health Insurance - Pharmacy -Pharmacy Benefit M...  20.0   NaN\n",
       "Human Resources - Recruitment and Organizationa...   NaN  20.0\n",
       "Finance and Accounting (FA) - Treasury (FAF) - ...   NaN  22.0\n",
       "Sales - Support and Training - Level 10             10.0   NaN\n",
       "\n",
       "[2042 rows x 2 columns]"
      ]
     },
     "execution_count": 9,
     "metadata": {},
     "output_type": "execute_result"
    }
   ],
   "source": [
    "dfjn = dfjn.dropna(axis=0,how='all')  \n",
    "dfjn"
   ]
  },
  {
   "cell_type": "markdown",
   "metadata": {},
   "source": [
    "Dive into the job existing in comapnies for both years, we found out that the skill levels remain nearly the same"
   ]
  },
  {
   "cell_type": "code",
   "execution_count": 10,
   "metadata": {},
   "outputs": [
    {
     "data": {
      "text/html": [
       "<div>\n",
       "<style scoped>\n",
       "    .dataframe tbody tr th:only-of-type {\n",
       "        vertical-align: middle;\n",
       "    }\n",
       "\n",
       "    .dataframe tbody tr th {\n",
       "        vertical-align: top;\n",
       "    }\n",
       "\n",
       "    .dataframe thead th {\n",
       "        text-align: right;\n",
       "    }\n",
       "</style>\n",
       "<table border=\"1\" class=\"dataframe\">\n",
       "  <thead>\n",
       "    <tr style=\"text-align: right;\">\n",
       "      <th></th>\n",
       "      <th>2011</th>\n",
       "      <th>2015</th>\n",
       "    </tr>\n",
       "  </thead>\n",
       "  <tbody>\n",
       "    <tr>\n",
       "      <th>Unclassified - Unclassified - Level 15</th>\n",
       "      <td>15.0</td>\n",
       "      <td>15.0</td>\n",
       "    </tr>\n",
       "    <tr>\n",
       "      <th>Unclassified - Unclassified - Level 14</th>\n",
       "      <td>14.0</td>\n",
       "      <td>14.0</td>\n",
       "    </tr>\n",
       "    <tr>\n",
       "      <th>Unclassified - Unclassified - Level 12</th>\n",
       "      <td>12.0</td>\n",
       "      <td>12.0</td>\n",
       "    </tr>\n",
       "    <tr>\n",
       "      <th>Unclassified - Unclassified - Level 16</th>\n",
       "      <td>16.0</td>\n",
       "      <td>16.0</td>\n",
       "    </tr>\n",
       "    <tr>\n",
       "      <th>Unclassified - Unclassified - Level 13</th>\n",
       "      <td>13.0</td>\n",
       "      <td>13.0</td>\n",
       "    </tr>\n",
       "    <tr>\n",
       "      <th>...</th>\n",
       "      <td>...</td>\n",
       "      <td>...</td>\n",
       "    </tr>\n",
       "    <tr>\n",
       "      <th>Merchandise Operations - Sourcing - Level 21</th>\n",
       "      <td>21.0</td>\n",
       "      <td>21.0</td>\n",
       "    </tr>\n",
       "    <tr>\n",
       "      <th>Sales - Key Account Sales - Level 22</th>\n",
       "      <td>22.0</td>\n",
       "      <td>22.0</td>\n",
       "    </tr>\n",
       "    <tr>\n",
       "      <th>Executive/Management - Corporate Executives - Level 26</th>\n",
       "      <td>26.0</td>\n",
       "      <td>26.0</td>\n",
       "    </tr>\n",
       "    <tr>\n",
       "      <th>Retail Operations - Regional Management - Level 28</th>\n",
       "      <td>28.0</td>\n",
       "      <td>28.0</td>\n",
       "    </tr>\n",
       "    <tr>\n",
       "      <th>Property Management - Facilities Management - Level 12</th>\n",
       "      <td>12.0</td>\n",
       "      <td>12.0</td>\n",
       "    </tr>\n",
       "  </tbody>\n",
       "</table>\n",
       "<p>141 rows × 2 columns</p>\n",
       "</div>"
      ],
      "text/plain": [
       "                                                    2011  2015\n",
       "Unclassified - Unclassified - Level 15              15.0  15.0\n",
       "Unclassified - Unclassified - Level 14              14.0  14.0\n",
       "Unclassified - Unclassified - Level 12              12.0  12.0\n",
       "Unclassified - Unclassified - Level 16              16.0  16.0\n",
       "Unclassified - Unclassified - Level 13              13.0  13.0\n",
       "...                                                  ...   ...\n",
       "Merchandise Operations - Sourcing - Level 21        21.0  21.0\n",
       "Sales - Key Account Sales - Level 22                22.0  22.0\n",
       "Executive/Management - Corporate Executives - L...  26.0  26.0\n",
       "Retail Operations - Regional Management - Level 28  28.0  28.0\n",
       "Property Management - Facilities Management - L...  12.0  12.0\n",
       "\n",
       "[141 rows x 2 columns]"
      ]
     },
     "execution_count": 10,
     "metadata": {},
     "output_type": "execute_result"
    }
   ],
   "source": [
    "dfjjj = dfjn.dropna(axis=0,how='any')  \n",
    "dfjjj"
   ]
  },
  {
   "cell_type": "code",
   "execution_count": 17,
   "metadata": {},
   "outputs": [
    {
     "data": {
      "image/png": "[encoded data removed]",
      "text/plain": [
       "<Figure size 432x288 with 1 Axes>"
      ]
     },
     "metadata": {
      "needs_background": "light"
     },
     "output_type": "display_data"
    }
   ],
   "source": [
    "bins = np.linspace(0, 40, 20)\n",
    "\n",
    "plt.hist(dfjjj['2011'], bins, alpha = 0.5, label='2011')\n",
    "plt.hist(dfjjj['2015'], bins, alpha = 0.5, label='2015')\n",
    "plt.legend(loc='upper right')\n",
    "plt.show()"
   ]
  },
  {
   "cell_type": "code",
   "execution_count": 14,
   "metadata": {},
   "outputs": [
    {
     "data": {
      "image/png": "[encoded data removed]",
      "text/plain": [
       "<Figure size 432x288 with 1 Axes>"
      ]
     },
     "metadata": {
      "needs_background": "light"
     },
     "output_type": "display_data"
    }
   ],
   "source": [
    "bins = np.linspace(0, 40, 20)\n",
    "\n",
    "plt.hist(dfjn['2011'], bins, alpha = 0.5, label='2011')\n",
    "plt.hist(dfjn['2015'], bins, alpha = 0.5, label='2015')\n",
    "plt.legend(loc='upper right')\n",
    "plt.show()"
   ]
  },
  {
   "cell_type": "markdown",
   "metadata": {},
   "source": [
    "From above analysis, the trend of ReferenceLevelNum is not influenced by changing skill levels of specific jobs. But the companies surveyed changed, so we dive into specific companies to see whether there is something different."
   ]
  },
  {
   "cell_type": "code",
   "execution_count": 18,
   "metadata": {},
   "outputs": [
    {
     "name": "stdout",
     "output_type": "stream",
     "text": [
      "[10, 56, 75, 82, 153, 272, 273, 276, 291, 306, 317, 319, 320, 331, 358, 374, 376, 408, 409, 417, 438, 498, 527, 552, 556, 562, 584, 588, 593, 596, 607, 608, 625, 645, 698, 714, 757, 768, 803, 805, 844, 852, 855, 931, 1003, 1022, 1025, 1052, 1071, 1072, 1095, 1096, 1112, 1119, 1144, 1253, 1257, 1272, 1278, 1295, 1305, 1323, 1333, 1335, 1338, 1349, 1402, 1424, 1430, 1437, 1439, 1448, 1468, 1473, 1505, 1537, 1561, 1568, 1593, 1597, 1634, 1635, 1649]\n"
     ]
    }
   ],
   "source": [
    "print(c) # The KF_ID of companies surveyed in 2011 but not in 2015"
   ]
  },
  {
   "cell_type": "markdown",
   "metadata": {},
   "source": [
    "So we select KF_ID = 82 for analysis"
   ]
  },
  {
   "cell_type": "code",
   "execution_count": 56,
   "metadata": {},
   "outputs": [],
   "source": [
    "df82 = df1[df1.KF_ID == 82].groupby('JobName')['ReferenceLevelNum'].median()"
   ]
  },
  {
   "cell_type": "code",
   "execution_count": 21,
   "metadata": {},
   "outputs": [
    {
     "name": "stdout",
     "output_type": "stream",
     "text": [
      "[2, 39, 49, 54, 110, 137, 149, 194, 200, 201, 250, 314, 324, 326, 330, 337, 342, 378, 435, 464, 466, 469, 472, 526, 528, 540, 563, 564, 573, 587, 636, 697, 722, 730, 736, 761, 767, 776, 783, 791, 799, 804, 808, 827, 835, 848, 851, 861, 899, 966, 970, 990, 1006, 1014, 1032, 1040, 1049, 1053, 1064, 1101, 1134, 1194, 1203, 1210, 1282, 1293, 1324, 1332, 1392, 1449, 1453, 1461, 1463, 1520, 1563, 1580, 1588, 1611, 1615, 1636, 1644, 1667]\n"
     ]
    }
   ],
   "source": [
    "print(d) # The KF_ID of companies surveyed in 2015 but not in 2011"
   ]
  },
  {
   "cell_type": "markdown",
   "metadata": {},
   "source": [
    "So we select KF_ID = 39 for analysis"
   ]
  },
  {
   "cell_type": "code",
   "execution_count": 58,
   "metadata": {},
   "outputs": [
    {
     "data": {
      "image/png": "[encoded data removed]",
      "text/plain": [
       "<Figure size 432x288 with 1 Axes>"
      ]
     },
     "metadata": {
      "needs_background": "light"
     },
     "output_type": "display_data"
    }
   ],
   "source": [
    "df39 = df1[df1.KF_ID == 39].groupby('JobName')['ReferenceLevelNum'].median()\n",
    "plt.hist(df82, bins, alpha = 0.5, label='KF_ID 82')\n",
    "plt.hist(df39, bins, alpha = 0.5, label='KF_ID 39')\n",
    "plt.legend(loc='upper right')\n",
    "plt.show()"
   ]
  },
  {
   "cell_type": "markdown",
   "metadata": {},
   "source": [
    "From data visualization above, the companies surveyed in 2015 but not in 2011 had more low skilled labors and less high skilled labors"
   ]
  },
  {
   "cell_type": "markdown",
   "metadata": {},
   "source": [
    "# Conclusion"
   ]
  },
  {
   "attachments": {
    "1.jpg": {
     "image/jpeg": "[encoded data removed]"
    }
   },
   "cell_type": "markdown",
   "metadata": {},
   "source": [
    "![1.jpg](attachment:1.jpg)"
   ]
  },
  {
   "cell_type": "code",
   "execution_count": 59,
   "metadata": {},
   "outputs": [
    {
     "data": {
      "text/plain": [
       "1528"
      ]
     },
     "execution_count": 59,
     "metadata": {},
     "output_type": "execute_result"
    }
   ],
   "source": [
    "# The number of jobs in 2015\n",
    "len(df1[df1.CalendarYear == 2015]['JobName'].value_counts().index.tolist())"
   ]
  },
  {
   "cell_type": "code",
   "execution_count": 60,
   "metadata": {},
   "outputs": [
    {
     "data": {
      "text/plain": [
       "1196"
      ]
     },
     "execution_count": 60,
     "metadata": {},
     "output_type": "execute_result"
    }
   ],
   "source": [
    "# The number of jobs in 2011\n",
    "len(df1[df1.CalendarYear == 2011]['JobName'].value_counts().index.tolist())"
   ]
  },
  {
   "cell_type": "markdown",
   "metadata": {},
   "source": [
    "According to above analysis, we get to know that the number of jobs in 2015 is greater than that in 2011. Much of the sector's gains are likely \n",
    "the result of the fairly strong economic environment. The Bureau of Labor Statistics estimates that the U.S. economy added 211,000 jobs in \n",
    "November,2015. The unemployment rate has fallen to 5%, half the peak level it reached in late 2009 in the aftermath of the global financial \n",
    "crisis.At the same time, declining commodity prices have helped keep the inflation rate subdued. For example,the oil price in particular has \n",
    "declined dramatically since the middle of 2014, with the price of crude oil recently nearing an 11-year low. The combination of a strengthening \n",
    "jobs market and low commodity prices has helped put more money in consumers' wallets and provided a boost to companies in the consumer discretionary\n",
    "sector.\n",
    "\n",
    "So we draw a conclusion that more low skilled labor were recruited in 2015 and low price of commodities were the main reason of drop \n",
    "in base salary in 2015."
   ]
  }
 ],
 "metadata": {
  "kernelspec": {
   "display_name": "Python 3",
   "language": "python",
   "name": "python3"
  },
  "language_info": {
   "codemirror_mode": {
    "name": "ipython",
    "version": 3
   },
   "file_extension": ".py",
   "mimetype": "text/x-python",
   "name": "python",
   "nbconvert_exporter": "python",
   "pygments_lexer": "ipython3",
   "version": "3.7.3"
  }
 },
 "nbformat": 4,
 "nbformat_minor": 4
}
